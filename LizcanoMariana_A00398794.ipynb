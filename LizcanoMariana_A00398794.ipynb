{
  "nbformat": 4,
  "nbformat_minor": 0,
  "metadata": {
    "colab": {
      "provenance": [],
      "authorship_tag": "ABX9TyNZQMbeIfA0z0W30g3b3gd8",
      "include_colab_link": true
    },
    "kernelspec": {
      "name": "python3",
      "display_name": "Python 3"
    },
    "language_info": {
      "name": "python"
    }
  },
  "cells": [
    {
      "cell_type": "markdown",
      "metadata": {
        "id": "view-in-github",
        "colab_type": "text"
      },
      "source": [
        "<a href=\"https://colab.research.google.com/github/Liziyeah/Aplicadas/blob/main/LizcanoMariana_A00398794.ipynb\" target=\"_parent\"><img src=\"https://colab.research.google.com/assets/colab-badge.svg\" alt=\"Open In Colab\"/></a>"
      ]
    },
    {
      "cell_type": "markdown",
      "source": [
        "<img src=\"https://i.pinimg.com/564x/15/a8/e5/15a8e5d7bc0011c973b3fa37e490bd7a.jpg\" width = \"150px\" align = \"right\">\n",
        "\n",
        "Mi nombre es Mariana Lizcano, tengo 19 años y soy de la ciudad de Tuluá. Siempre me interesó programar, sin embargo, no quería enfocarme solamente en eso, por lo que elegí la carrera de Diseño de Medios Interactivos. Después de pasar a 4to semestre, quise empezar una doble titulación con Ingeniería en Sistemas debido a que me parece que ambas carreras se complementan.\n",
        "\n",
        "Además de eso, tengo una perrita desde hace 13 años, la cuál aprecio mucho por haber estado en mi vida por bastante tiempo, y un gatito que adopté el año pasado, que me ha estado acompañando en la vida de foráneo en Cali.\n",
        "\n",
        "\n",
        "**Canciones favoritas**\n",
        "\n",
        "<img src=\"https://kangekienkai.wordpress.com/wp-content/uploads/2016/03/underdr.jpg?w=660\" width = \"130px\" >  \n",
        "- *Conception for three forms of unhapiness*\n",
        " - My dead girlfriend\n",
        "\n",
        "\n",
        "<img src=\"https://lastfm.freetls.fastly.net/i/u/300x300/7859440b2984ac2e67da8de29471e3e2.jpg\" width = \"130px\" >  \n",
        "- *Beware*\n",
        " - Deftones\n",
        "\n",
        "<img src=\"https://cdns-images.dzcdn.net/images/cover/4830bb97ce446e58f05cf455be3c7627/1900x1900-000000-80-0-0.jpg\" width = \"130px\" >  \n",
        "- *Skin*\n",
        " - Ava Akira, Dj Kuroneko\n",
        "\n",
        "\n",
        "|Teoría del color|Expresión gráfica|Algoritmos|  \n",
        "|----------------| ----------------|----------|\n"
      ],
      "metadata": {
        "id": "JNBRx9UFmwMI"
      }
    },
    {
      "cell_type": "markdown",
      "source": [
        "\n",
        "\n",
        "\n"
      ],
      "metadata": {
        "id": "C4uld4I1qQl9"
      }
    }
  ]
}